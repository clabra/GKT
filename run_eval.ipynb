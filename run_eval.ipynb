{
 "cells": [
  {
   "cell_type": "code",
   "execution_count": null,
   "metadata": {},
   "outputs": [],
   "source": [
    "#!git clone https://github.com/clabra/GKT.git"
   ]
  },
  {
   "cell_type": "code",
   "execution_count": null,
   "metadata": {},
   "outputs": [],
   "source": [
    "#!pip install -r requirements.txt"
   ]
  },
  {
   "cell_type": "code",
   "execution_count": null,
   "metadata": {},
   "outputs": [],
   "source": [
    "import torch"
   ]
  },
  {
   "cell_type": "code",
   "execution_count": null,
   "metadata": {},
   "outputs": [],
   "source": [
    "import torchvision.models as models"
   ]
  },
  {
   "cell_type": "code",
   "execution_count": null,
   "metadata": {},
   "outputs": [],
   "source": [
    "import pickle"
   ]
  },
  {
   "cell_type": "code",
   "execution_count": null,
   "metadata": {},
   "outputs": [],
   "source": [
    "import wandb"
   ]
  },
  {
   "cell_type": "code",
   "execution_count": null,
   "metadata": {},
   "outputs": [],
   "source": [
    "import pickle"
   ]
  },
  {
   "cell_type": "code",
   "execution_count": null,
   "metadata": {},
   "outputs": [],
   "source": [
    "import torch"
   ]
  },
  {
   "cell_type": "code",
   "execution_count": null,
   "metadata": {},
   "outputs": [],
   "source": [
    "from models import GKT, MultiHeadAttention, VAE, DKT"
   ]
  },
  {
   "cell_type": "code",
   "execution_count": null,
   "metadata": {},
   "outputs": [],
   "source": [
    "# Specify the directory where the metadata.pkl file is located\n",
    "metadata_dir = \"logs/expDKT2024-08-23 10-12-17/\""
   ]
  },
  {
   "cell_type": "code",
   "execution_count": null,
   "metadata": {},
   "outputs": [],
   "source": [
    "# Load the metadata from the metadata.pkl file\n",
    "with open(metadata_dir + 'metadata.pkl', 'rb') as f:\n",
    "    metadata = pickle.load(f)"
   ]
  },
  {
   "cell_type": "code",
   "execution_count": null,
   "metadata": {},
   "outputs": [],
   "source": [
    "wandb.init(project=\"GKT\", entity=\"clabra\")"
   ]
  },
  {
   "cell_type": "code",
   "execution_count": null,
   "metadata": {},
   "outputs": [],
   "source": [
    "\"\"\"\n",
    "attn_dim=32, batch_size=128, bias=True, binary=True, cuda=False, data_dir='data', data_file='skill_builder_data.csv', \n",
    "dkt_graph='dkt_graph.txt', dkt_graph_dir='dkt-graph', \n",
    "\n",
    "dropout=0, edge_types=2, emb_dim=32, epochs=50, factor=True, gamma=0.5, graph_save_dir='graphs', graph_type='Dense', \n",
    "hard=False, hid_dim=32, load_dir='', lr=0.001, lr_decay=200, model='DKT', no_cuda=True, no_factor=False, prior=False, \n",
    "result_type=12, save_dir='logs', seed=42, shuffle=True, temp=0.5, test=False, test_model_dir='logs/expDKT', train_ratio=0.6, \n",
    "vae_decoder_dim=32, vae_encoder_dim=32, val_ratio=0.2, var=1)\"\n",
    "\"\"\"\n",
    "\n",
    "# Create an instance of the model using the retrieved aparameters\n",
    "#model = DKT(res_len * concept_num, args.emb_dim, concept_num, dropout=args.dropout, bias=args.bias)\n",
    "model = DKT(2 * 123, 32, 123, dropout=0, bias=True)\n",
    "\n",
    "model_state = torch.load(metadata_dir + 'DKT.pt')\n",
    "# Load the saved model weights\n",
    "model.load_state_dict(model_state)\n",
    "\n",
    "# Set the model to evaluation mode\n",
    "model.eval()"
   ]
  },
  {
   "cell_type": "code",
   "execution_count": null,
   "metadata": {},
   "outputs": [],
   "source": [
    "wandb.log({\"accuracy\": accuracy, \"loss\": loss, \"auc\": auc})"
   ]
  },
  {
   "cell_type": "code",
   "execution_count": 18,
   "metadata": {},
   "outputs": [
    {
     "name": "stderr",
     "output_type": "stream",
     "text": [
      "usage: ipykernel_launcher.py [-h] [--no-cuda] [--seed SEED]\n",
      "                             [--data-dir DATA_DIR] [--data-file DATA_FILE]\n",
      "                             [--save-dir SAVE_DIR]\n",
      "                             [-graph-save-dir GRAPH_SAVE_DIR]\n",
      "                             [--load-dir LOAD_DIR]\n",
      "                             [--dkt-graph-dir DKT_GRAPH_DIR]\n",
      "                             [--dkt-graph DKT_GRAPH] [--model MODEL]\n",
      "                             [--hid-dim HID_DIM] [--emb-dim EMB_DIM]\n",
      "                             [--attn-dim ATTN_DIM]\n",
      "                             [--vae-encoder-dim VAE_ENCODER_DIM]\n",
      "                             [--vae-decoder-dim VAE_DECODER_DIM]\n",
      "                             [--edge-types EDGE_TYPES]\n",
      "                             [--graph-type GRAPH_TYPE] [--dropout DROPOUT]\n",
      "                             [--bias BIAS] [--binary BINARY]\n",
      "                             [--result-type RESULT_TYPE] [--temp TEMP]\n",
      "                             [--hard] [--no-factor] [--prior] [--var VAR]\n",
      "                             [--epochs EPOCHS] [--batch-size BATCH_SIZE]\n",
      "                             [--train-ratio TRAIN_RATIO]\n",
      "                             [--val-ratio VAL_RATIO] [--shuffle SHUFFLE]\n",
      "                             [--lr LR] [--lr-decay LR_DECAY] [--gamma GAMMA]\n",
      "                             [--test TEST] [--test-model-dir TEST_MODEL_DIR]\n",
      "ipykernel_launcher.py: error: unrecognized arguments: -f /home/clabra/.local/share/jupyter/runtime/kernel-24045e74-c4d9-42bf-9b01-08c7a3de2c64.json\n"
     ]
    },
    {
     "ename": "SystemExit",
     "evalue": "2",
     "output_type": "error",
     "traceback": [
      "An exception has occurred, use %tb to see the full traceback.\n",
      "\u001b[0;31mSystemExit\u001b[0m\u001b[0;31m:\u001b[0m 2\n"
     ]
    }
   ],
   "source": [
    "import train"
   ]
  },
  {
   "cell_type": "code",
   "execution_count": 19,
   "metadata": {},
   "outputs": [
    {
     "ename": "NameError",
     "evalue": "name 'test' is not defined",
     "output_type": "error",
     "traceback": [
      "\u001b[0;31m---------------------------------------------------------------------------\u001b[0m",
      "\u001b[0;31mNameError\u001b[0m                                 Traceback (most recent call last)",
      "Cell \u001b[0;32mIn[19], line 1\u001b[0m\n\u001b[0;32m----> 1\u001b[0m \u001b[43mtest\u001b[49m()\n",
      "\u001b[0;31mNameError\u001b[0m: name 'test' is not defined"
     ]
    }
   ],
   "source": [
    "test()"
   ]
  },
  {
   "cell_type": "code",
   "execution_count": null,
   "metadata": {},
   "outputs": [],
   "source": [
    "!python3 train.py --data-file=skill_builder_data.csv --model=DKT --test=True"
   ]
  }
 ],
 "metadata": {
  "kernelspec": {
   "display_name": "Python 3 (ipykernel)",
   "language": "python",
   "name": "python3"
  },
  "language_info": {
   "codemirror_mode": {
    "name": "ipython",
    "version": 3
   },
   "file_extension": ".py",
   "mimetype": "text/x-python",
   "name": "python",
   "nbconvert_exporter": "python",
   "pygments_lexer": "ipython3",
   "version": "3.8.10"
  }
 },
 "nbformat": 4,
 "nbformat_minor": 2
}
