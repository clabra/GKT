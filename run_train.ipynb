{
 "cells": [
  {
   "cell_type": "markdown",
   "metadata": {
    "colab_type": "text",
    "id": "view-in-github"
   },
   "source": [
    "<a href=\"https://colab.research.google.com/github/clabra/GKT/blob/master/run.ipynb\" target=\"_parent\"><img src=\"https://colab.research.google.com/assets/colab-badge.svg\" alt=\"Open In Colab\"/></a>"
   ]
  },
  {
   "cell_type": "code",
   "execution_count": null,
   "metadata": {
    "colab": {
     "base_uri": "https://localhost:8080/"
    },
    "id": "Hpp_Aig0ykEU",
    "outputId": "2e870eb8-11b8-46cd-a575-bd623cdb122f"
   },
   "outputs": [],
   "source": [
    "#!git clone https://github.com/clabra/GKT.git"
   ]
  },
  {
   "cell_type": "code",
   "execution_count": null,
   "metadata": {
    "colab": {
     "base_uri": "https://localhost:8080/"
    },
    "id": "_F3qi2s3zpsj",
    "outputId": "aa484069-b7a1-48a4-e053-882bb2dcbb4b"
   },
   "outputs": [],
   "source": [
    "#%cd GKT"
   ]
  },
  {
   "cell_type": "code",
   "execution_count": null,
   "metadata": {
    "colab": {
     "base_uri": "https://localhost:8080/"
    },
    "id": "gyBK0a0zziYi",
    "outputId": "ce1c1941-a6d5-4329-d7ef-46f266555f9d"
   },
   "outputs": [],
   "source": [
    "#!python3 train.py --data-file=skill_builder_data.csv --model=GKT --graph-type=Dense"
   ]
  },
  {
   "cell_type": "code",
   "execution_count": null,
   "metadata": {},
   "outputs": [
    {
     "name": "stdout",
     "output_type": "stream",
     "text": [
      "Namespace(attn_dim=32, batch_size=128, bias=True, binary=True, cuda=False, data_dir='data', data_file='skill_builder_data.csv', dkt_graph='dkt_graph.txt', dkt_graph_dir='dkt-graph', dropout=0, edge_types=2, emb_dim=32, epochs=50, factor=True, gamma=0.5, graph_save_dir='graphs', graph_type='Dense', hard=False, hid_dim=32, load_dir='', lr=0.001, lr_decay=200, model='DKT', no_cuda=True, no_factor=False, prior=False, result_type=12, save_dir='logs', seed=42, shuffle=True, temp=0.5, test=False, train_ratio=0.6, vae_decoder_dim=32, vae_encoder_dim=32, val_ratio=0.2, var=1, wandb=True)\n",
      "\u001b[34m\u001b[1mwandb\u001b[0m: Currently logged in as: \u001b[33mclabra\u001b[0m. Use \u001b[1m`wandb login --relogin`\u001b[0m to force relogin\n",
      "\u001b[34m\u001b[1mwandb\u001b[0m: wandb version 0.17.8 is available!  To upgrade, please run:\n",
      "\u001b[34m\u001b[1mwandb\u001b[0m:  $ pip install wandb --upgrade\n",
      "\u001b[34m\u001b[1mwandb\u001b[0m: Tracking run with wandb version 0.17.7\n",
      "\u001b[34m\u001b[1mwandb\u001b[0m: Run data is saved locally in \u001b[35m\u001b[1m/home/clabra/Documentos/Doctorado/github/gnn/GKT/wandb/run-20240901_090248-hnubdmmo\u001b[0m\n",
      "\u001b[34m\u001b[1mwandb\u001b[0m: Run \u001b[1m`wandb offline`\u001b[0m to turn off syncing.\n",
      "\u001b[34m\u001b[1mwandb\u001b[0m: Syncing run \u001b[33mskilled-resonance-13\u001b[0m\n",
      "\u001b[34m\u001b[1mwandb\u001b[0m: ⭐️ View project at \u001b[34m\u001b[4mhttps://wandb.ai/clabra/GKT\u001b[0m\n",
      "\u001b[34m\u001b[1mwandb\u001b[0m: 🚀 View run at \u001b[34m\u001b[4mhttps://wandb.ai/clabra/GKT/runs/hnubdmmo\u001b[0m\n",
      "sys:1: DtypeWarning: Columns (17) have mixed types.Specify dtype option on import or set low_memory=False.\n",
      "max seq_len:  6157\n",
      "student num:  4047\n",
      "feature_dim:  246\n",
      "question_dim:  123\n",
      "train_size:  2428 val_size:  809 test_size:  810\n",
      "start training!\n",
      "batch idx:  0 loss kt:  0.7009616494178772 auc:  0.48662466433633333 acc:  0.4688218284273745 cost time:  14.530821084976196\n",
      "batch idx:  1 loss kt:  0.695625364780426 auc:  0.5352290816525025 acc:  0.48839727722772275 cost time:  9.755849123001099\n",
      "batch idx:  2 loss kt:  0.7000610828399658 auc:  0.49740018214682025 acc:  0.4693659383978085 cost time:  15.989902257919312\n",
      "batch idx:  3 loss kt:  0.6983118057250977 auc:  0.49047771938302887 acc:  0.4970842980876426 cost time:  64.27094793319702\n",
      "batch idx:  4 loss kt:  0.6965002417564392 auc:  0.5212070864002893 acc:  0.43968569627006837 cost time:  75.31074523925781\n",
      "batch idx:  5 loss kt:  0.6926618814468384 auc:  0.5237620544748413 acc:  0.5055801423898403 cost time:  14.607470989227295\n",
      "batch idx:  6 loss kt:  0.6982585787773132 auc:  0.4887217101654151 acc:  0.4808894353929706 cost time:  8.714724779129028\n",
      "batch idx:  7 loss kt:  0.6970483064651489 auc:  0.486748123640483 acc:  0.4735428842205023 cost time:  6.073836326599121\n",
      "batch idx:  8 loss kt:  0.6937269568443298 auc:  0.5151451094528381 acc:  0.5043269580394153 cost time:  11.466375589370728\n",
      "batch idx:  9 loss kt:  0.6951548457145691 auc:  0.4863549447559631 acc:  0.49870826709062005 cost time:  8.0688955783844\n",
      "batch idx:  10 loss kt:  0.689696192741394 auc:  0.5440570962751378 acc:  0.5203378936736756 cost time:  11.911091804504395\n",
      "batch idx:  11 loss kt:  0.6881765723228455 auc:  0.5565145971584433 acc:  0.5284663190227873 cost time:  7.991619825363159\n",
      "batch idx:  12 loss kt:  0.6882352232933044 auc:  0.5347112099485114 acc:  0.5202949663353639 cost time:  17.084888696670532\n",
      "batch idx:  13 loss kt:  0.6862646341323853 auc:  0.5618867241177871 acc:  0.5112597911227154 cost time:  14.190340518951416\n",
      "batch idx:  14 loss kt:  0.6881688237190247 auc:  0.5436322692519134 acc:  0.5198245043873904 cost time:  30.887207746505737\n",
      "batch idx:  15 loss kt:  0.6853303909301758 auc:  0.5579346797788063 acc:  0.5518242646130539 cost time:  14.89336895942688\n",
      "batch idx:  16 loss kt:  0.6874414682388306 auc:  0.5314390636236184 acc:  0.5049316490742343 cost time:  6.963517904281616\n",
      "batch idx:  17 loss kt:  0.6827054023742676 auc:  0.5492704963205797 acc:  0.5273081924577373 cost time:  18.648879528045654\n",
      "batch idx:  18 loss kt:  0.6808503866195679 auc:  0.5567178848608729 acc:  0.5530162897547586 cost time:  9.337303876876831\n",
      "Epoch: 0000 loss_train: 0.6918515688 auc_train: 0.5246228788 acc_train: 0.5033508735 loss_val: 0.6813511848 auc_val: 0.5660806545 acc_val: 0.5512525879 time: 372.9456s\n",
      "Best model so far, saving...\n",
      "batch idx:  0 loss kt:  0.6817111372947693 auc:  0.5314198372411658 acc:  0.5390361445783133 cost time:  6.725036859512329\n",
      "batch idx:  1 loss kt:  0.6800126433372498 auc:  0.5897206191976223 acc:  0.5324814978809539 cost time:  36.66020846366882\n",
      "batch idx:  2 loss kt:  0.6844527125358582 auc:  0.5529386400361341 acc:  0.5380508859609269 cost time:  10.554919004440308\n",
      "batch idx:  3 loss kt:  0.6816818714141846 auc:  0.5601063054251645 acc:  0.5453487405436861 cost time:  9.867148637771606\n",
      "batch idx:  4 loss kt:  0.6756592988967896 auc:  0.5985362869593672 acc:  0.5650546708740002 cost time:  22.10826539993286\n",
      "batch idx:  5 loss kt:  0.6787710785865784 auc:  0.5432425929899117 acc:  0.5778508771929824 cost time:  9.511743783950806\n",
      "batch idx:  6 loss kt:  0.6740608215332031 auc:  0.5725069729245944 acc:  0.5767306652244456 cost time:  10.987208127975464\n",
      "batch idx:  7 loss kt:  0.6743023991584778 auc:  0.5884995347112945 acc:  0.5772654311980154 cost time:  10.811825037002563\n",
      "batch idx:  8 loss kt:  0.6668931245803833 auc:  0.6135444580059028 acc:  0.5584425657333437 cost time:  11.21645212173462\n",
      "batch idx:  9 loss kt:  0.6649461388587952 auc:  0.6236675053362285 acc:  0.6240488105847672 cost time:  13.76347541809082\n",
      "batch idx:  10 loss kt:  0.6664299368858337 auc:  0.6210586544458079 acc:  0.6643246817655811 cost time:  13.499406814575195\n",
      "batch idx:  11 loss kt:  0.6672622561454773 auc:  0.6354254988354735 acc:  0.6675469483568075 cost time:  10.19737458229065\n",
      "batch idx:  12 loss kt:  0.6650444865226746 auc:  0.6112497983582177 acc:  0.6709923664122137 cost time:  15.167850494384766\n",
      "batch idx:  13 loss kt:  0.657777726650238 auc:  0.7080198349157314 acc:  0.7675507020280812 cost time:  85.58464097976685\n",
      "batch idx:  14 loss kt:  0.6588737368583679 auc:  0.6249592888275461 acc:  0.7000057646855364 cost time:  10.879475355148315\n",
      "batch idx:  15 loss kt:  0.6623601913452148 auc:  0.6144655579396838 acc:  0.6737687200864598 cost time:  11.240515947341919\n",
      "batch idx:  16 loss kt:  0.6634880900382996 auc:  0.6065318429137159 acc:  0.6849849657731432 cost time:  7.993567943572998\n",
      "batch idx:  17 loss kt:  0.6481496095657349 auc:  0.6363801808188062 acc:  0.7503250975292588 cost time:  11.715583324432373\n",
      "batch idx:  18 loss kt:  0.6547222137451172 auc:  0.6601885160848933 acc:  0.6818902991840435 cost time:  9.132679462432861\n",
      "Epoch: 0001 loss_train: 0.6687683934 auc_train: 0.6048664172 acc_train: 0.6260894650 loss_val: 0.6537155083 auc_val: 0.6403826337 acc_val: 0.6936702391 time: 327.7454s\n",
      "Best model so far, saving...\n",
      "batch idx:  0 loss kt:  0.6551948189735413 auc:  0.6402657099415452 acc:  0.6716777762019571 cost time:  14.315582513809204\n",
      "batch idx:  1 loss kt:  0.6500647664070129 auc:  0.6884376162534358 acc:  0.7258390859319209 cost time:  63.92383313179016\n"
     ]
    }
   ],
   "source": [
    "!python3 train.py --data-file=skill_builder_data.csv --model=DKT"
   ]
  },
  {
   "cell_type": "code",
   "execution_count": null,
   "metadata": {},
   "outputs": [],
   "source": []
  }
 ],
 "metadata": {
  "accelerator": "TPU",
  "colab": {
   "gpuType": "V28",
   "include_colab_link": true,
   "provenance": []
  },
  "kernelspec": {
   "display_name": "Python 3 (ipykernel)",
   "language": "python",
   "name": "python3"
  },
  "language_info": {
   "codemirror_mode": {
    "name": "ipython",
    "version": 3
   },
   "file_extension": ".py",
   "mimetype": "text/x-python",
   "name": "python",
   "nbconvert_exporter": "python",
   "pygments_lexer": "ipython3",
   "version": "3.8.10"
  }
 },
 "nbformat": 4,
 "nbformat_minor": 4
}
