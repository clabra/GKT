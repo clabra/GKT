{
  "cells": [
    {
      "cell_type": "markdown",
      "metadata": {
        "colab_type": "text",
        "id": "view-in-github"
      },
      "source": [
        "<a href=\"https://colab.research.google.com/github/clabra/GKT/blob/master/run.ipynb\" target=\"_parent\"><img src=\"https://colab.research.google.com/assets/colab-badge.svg\" alt=\"Open In Colab\"/></a>"
      ]
    },
    {
      "cell_type": "code",
      "execution_count": 1,
      "metadata": {
        "colab": {
          "base_uri": "https://localhost:8080/"
        },
        "id": "Hpp_Aig0ykEU",
        "outputId": "2e870eb8-11b8-46cd-a575-bd623cdb122f"
      },
      "outputs": [
        {
          "name": "stdout",
          "output_type": "stream",
          "text": [
            "Cloning into 'GKT'...\n",
            "remote: Enumerating objects: 375, done.\u001b[K\n",
            "remote: Counting objects: 100% (18/18), done.\u001b[K\n",
            "remote: Compressing objects: 100% (15/15), done.\u001b[K\n",
            "remote: Total 375 (delta 7), reused 9 (delta 3), pack-reused 357 (from 1)\u001b[K\n",
            "Receiving objects: 100% (375/375), 17.82 MiB | 18.19 MiB/s, done.\n",
            "Resolving deltas: 100% (224/224), done.\n"
          ]
        }
      ],
      "source": [
        "!git clone https://github.com/clabra/GKT.git"
      ]
    },
    {
      "cell_type": "code",
      "execution_count": 2,
      "metadata": {
        "colab": {
          "base_uri": "https://localhost:8080/"
        },
        "id": "_F3qi2s3zpsj",
        "outputId": "aa484069-b7a1-48a4-e053-882bb2dcbb4b"
      },
      "outputs": [
        {
          "name": "stdout",
          "output_type": "stream",
          "text": [
            "/content/GKT\n"
          ]
        }
      ],
      "source": [
        "%cd GKT"
      ]
    },
    {
      "cell_type": "code",
      "execution_count": null,
      "metadata": {
        "colab": {
          "base_uri": "https://localhost:8080/"
        },
        "id": "gyBK0a0zziYi",
        "outputId": "ce1c1941-a6d5-4329-d7ef-46f266555f9d"
      },
      "outputs": [
        {
          "name": "stdout",
          "output_type": "stream",
          "text": [
            "Namespace(no_cuda=True, seed=42, data_dir='data', data_file='skill_builder_data.csv', save_dir='logs', graph_save_dir='graphs', load_dir='', dkt_graph_dir='dkt-graph', dkt_graph='dkt_graph.txt', model='GKT', hid_dim=32, emb_dim=32, attn_dim=32, vae_encoder_dim=32, vae_decoder_dim=32, edge_types=2, graph_type='Dense', dropout=0, bias=True, binary=True, result_type=12, temp=0.5, hard=False, no_factor=False, prior=False, var=1, epochs=50, batch_size=128, train_ratio=0.6, val_ratio=0.2, shuffle=True, lr=0.001, lr_decay=200, gamma=0.5, test=False, test_model_dir='logs/expDKT', cuda=False, factor=True)\n",
            "/content/GKT/processing.py:57: DtypeWarning: Columns (17) have mixed types. Specify dtype option on import or set low_memory=False.\n",
            "  df = pd.read_csv(file_path)\n",
            "max seq_len:  6157\n",
            "student num:  4047\n",
            "feature_dim:  246\n",
            "question_dim:  123\n",
            "train_size:  2428 val_size:  809 test_size:  810\n",
            "start training!\n",
            "batch idx:  0 loss kt:  0.7000175714492798 auc:  0.5148108363494824 acc:  0.46659034138218153 cost time:  32.42638945579529\n",
            "batch idx:  1 loss kt:  0.7002571225166321 auc:  0.545595195767844 acc:  0.4713791160132034 cost time:  29.014200925827026\n",
            "batch idx:  2 loss kt:  0.6971427202224731 auc:  0.4991412312828608 acc:  0.5247109566884323 cost time:  80.23291373252869\n",
            "batch idx:  3 loss kt:  0.6958906650543213 auc:  0.5583978024562346 acc:  0.4828852766489528 cost time:  51.1724693775177\n",
            "batch idx:  4 loss kt:  0.6993482112884521 auc:  0.5336354629956457 acc:  0.4612600672851463 cost time:  53.876484394073486\n",
            "batch idx:  5 loss kt:  0.6967355608940125 auc:  0.539361243015815 acc:  0.4710633567988144 cost time:  54.65554213523865\n",
            "batch idx:  6 loss kt:  0.6945388317108154 auc:  0.5619438359693928 acc:  0.47407187407187407 cost time:  51.44809031486511\n",
            "batch idx:  7 loss kt:  0.6961289048194885 auc:  0.5496392155809514 acc:  0.46489604101395615 cost time:  47.92303729057312\n",
            "batch idx:  8 loss kt:  0.6908578276634216 auc:  0.574581817581933 acc:  0.5180433640933303 cost time:  48.01580739021301\n",
            "batch idx:  9 loss kt:  0.6967793703079224 auc:  0.5293078321135131 acc:  0.47472324723247233 cost time:  36.517486572265625\n",
            "batch idx:  10 loss kt:  0.6875517964363098 auc:  0.6055135487660539 acc:  0.5100671140939598 cost time:  40.99107003211975\n",
            "batch idx:  11 loss kt:  0.6888778209686279 auc:  0.581604409627985 acc:  0.5142715840045217 cost time:  38.00263714790344\n",
            "batch idx:  12 loss kt:  0.6876710653305054 auc:  0.582674719764566 acc:  0.5237851334912607 cost time:  52.967227935791016\n",
            "batch idx:  13 loss kt:  0.696123480796814 auc:  0.5238509867187383 acc:  0.49533369931770055 cost time:  35.241191148757935\n",
            "batch idx:  14 loss kt:  0.6831449866294861 auc:  0.5960044684309922 acc:  0.532581055308328 cost time:  39.454225063323975\n",
            "batch idx:  15 loss kt:  0.6876185536384583 auc:  0.5739750745830879 acc:  0.5213559688581315 cost time:  41.5177538394928\n",
            "batch idx:  16 loss kt:  0.680753767490387 auc:  0.6078100397272277 acc:  0.5568655261058417 cost time:  66.7828414440155\n",
            "batch idx:  17 loss kt:  0.6927671432495117 auc:  0.5344327797936037 acc:  0.5108105621492317 cost time:  40.325947523117065\n",
            "batch idx:  18 loss kt:  0.6887805461883545 auc:  0.5609070969625309 acc:  0.5206584630429468 cost time:  42.392616748809814\n",
            "Epoch: 0000 loss_train: 0.6926834709 auc_train: 0.5564835578 acc_train: 0.4997554078 loss_val: 0.6688875897 auc_val: 0.5338108619 acc_val: 0.6186512028 time: 943.9353s\n",
            "Best model so far, saving...\n",
            "batch idx:  0 loss kt:  0.676792323589325 auc:  0.6225432257369743 acc:  0.571608832807571 cost time:  32.246832609176636\n",
            "batch idx:  1 loss kt:  0.684657871723175 auc:  0.5799428063892371 acc:  0.5381139775542924 cost time:  26.752269983291626\n",
            "batch idx:  2 loss kt:  0.6901518106460571 auc:  0.5511769276034543 acc:  0.5174753671686187 cost time:  24.27954864501953\n",
            "batch idx:  3 loss kt:  0.6860134601593018 auc:  0.5565852944515107 acc:  0.5267060525681215 cost time:  28.739387273788452\n",
            "batch idx:  4 loss kt:  0.6883609294891357 auc:  0.542401382976561 acc:  0.531398530894426 cost time:  27.72983193397522\n",
            "batch idx:  5 loss kt:  0.6797688007354736 auc:  0.6041145353967606 acc:  0.5626650416412756 cost time:  28.33290719985962\n",
            "batch idx:  6 loss kt:  0.683222770690918 auc:  0.490441808750962 acc:  0.5960759710260651 cost time:  80.05539011955261\n",
            "batch idx:  7 loss kt:  0.6917269825935364 auc:  0.5050066333489082 acc:  0.5099665246500305 cost time:  34.123345136642456\n",
            "batch idx:  8 loss kt:  0.6846439242362976 auc:  0.5729888998409253 acc:  0.5643196955280685 cost time:  42.71856188774109\n",
            "batch idx:  9 loss kt:  0.6818948984146118 auc:  0.5671058253700949 acc:  0.5401143917143298 cost time:  39.81463074684143\n",
            "batch idx:  10 loss kt:  0.6710546016693115 auc:  0.6400897078606123 acc:  0.6102440794846202 cost time:  69.5733699798584\n",
            "batch idx:  11 loss kt:  0.6834343075752258 auc:  0.5577590601837383 acc:  0.5525338193032873 cost time:  40.843278884887695\n",
            "batch idx:  12 loss kt:  0.6771255135536194 auc:  0.5858208130676708 acc:  0.5780905077262694 cost time:  45.31172227859497\n",
            "batch idx:  13 loss kt:  0.6763036847114563 auc:  0.5940549642949858 acc:  0.5821889305035373 cost time:  43.690561294555664\n",
            "batch idx:  14 loss kt:  0.6727392077445984 auc:  0.6267145791478563 acc:  0.6032368458576929 cost time:  40.295543909072876\n",
            "batch idx:  15 loss kt:  0.6762110590934753 auc:  0.589488324973013 acc:  0.5780147404735769 cost time:  40.70044469833374\n",
            "batch idx:  16 loss kt:  0.6661004424095154 auc:  0.6397507215175431 acc:  0.5916544655929722 cost time:  43.09950256347656\n",
            "batch idx:  17 loss kt:  0.6822609305381775 auc:  0.5453951878049494 acc:  0.5554171855541719 cost time:  31.612324953079224\n",
            "batch idx:  18 loss kt:  0.677014946937561 auc:  0.590852468824231 acc:  0.5850574712643678 cost time:  40.54673743247986\n",
            "Epoch: 0001 loss_train: 0.6804988667 auc_train: 0.5769596404 acc_train: 0.5628885490 loss_val: 0.6942656210 auc_val: 0.5504828850 acc_val: 0.5477939795 time: 821.3723s\n",
            "batch idx:  0 loss kt:  0.6741127371788025 auc:  0.5924978375248577 acc:  0.5918976015906549 cost time:  32.09308695793152\n",
            "batch idx:  1 loss kt:  0.6655447483062744 auc:  0.63740823073922 acc:  0.5999300577023955 cost time:  30.98220682144165\n",
            "batch idx:  2 loss kt:  0.6665399074554443 auc:  0.6146207634020139 acc:  0.6086295958675175 cost time:  32.01371669769287\n",
            "batch idx:  3 loss kt:  0.672386884689331 auc:  0.595407928897975 acc:  0.5841916280827743 cost time:  35.40788745880127\n",
            "batch idx:  4 loss kt:  0.6672253012657166 auc:  0.5319827128900958 acc:  0.6246113486202876 cost time:  85.99060344696045\n",
            "batch idx:  5 loss kt:  0.6720789074897766 auc:  0.5770016626638008 acc:  0.5964306275187105 cost time:  45.04287672042847\n",
            "batch idx:  6 loss kt:  0.6585335731506348 auc:  0.6532598391323284 acc:  0.6297337832770904 cost time:  56.28835391998291\n",
            "batch idx:  7 loss kt:  0.6768529415130615 auc:  0.5514776041007838 acc:  0.5869894099848714 cost time:  38.372870683670044\n",
            "batch idx:  8 loss kt:  0.6699937582015991 auc:  0.606523950484072 acc:  0.6003761550412953 cost time:  49.392680644989014\n",
            "batch idx:  9 loss kt:  0.6723955273628235 auc:  0.5607607468898705 acc:  0.5836633278981287 cost time:  46.64647436141968\n",
            "batch idx:  10 loss kt:  0.6751653552055359 auc:  0.5450254481210123 acc:  0.5873360688711884 cost time:  40.65241312980652\n",
            "batch idx:  11 loss kt:  0.6743196845054626 auc:  0.5518457763283957 acc:  0.6028418559775458 cost time:  40.12011194229126\n",
            "batch idx:  12 loss kt:  0.6726338863372803 auc:  0.5637376954758617 acc:  0.5816828478964401 cost time:  87.12824130058289\n",
            "batch idx:  13 loss kt:  0.6734828352928162 auc:  0.5603100726106045 acc:  0.5998815967523681 cost time:  34.277132987976074\n",
            "batch idx:  14 loss kt:  0.6532426476478577 auc:  0.6457098925534921 acc:  0.6298360873316079 cost time:  45.83360719680786\n",
            "batch idx:  15 loss kt:  0.6699033379554749 auc:  0.5692024028220055 acc:  0.6065509693558474 cost time:  36.60528922080994\n",
            "batch idx:  16 loss kt:  0.6559999585151672 auc:  0.6244331635709774 acc:  0.6372019306966357 cost time:  57.51844120025635\n",
            "batch idx:  17 loss kt:  0.6635935306549072 auc:  0.6075950176807127 acc:  0.6299228862572294 cost time:  35.18382930755615\n",
            "batch idx:  18 loss kt:  0.6688408255577087 auc:  0.5544868493977075 acc:  0.6071944893273238 cost time:  38.648393392562866\n",
            "Epoch: 0002 loss_train: 0.6685708604 auc_train: 0.5864888208 acc_train: 0.6046790667 loss_val: 0.6753258279 auc_val: 0.5517180470 acc_val: 0.5697355524 time: 933.2025s\n",
            "batch idx:  0 loss kt:  0.660152792930603 auc:  0.6132263861656204 acc:  0.6348707197763801 cost time:  27.172184944152832\n",
            "batch idx:  1 loss kt:  0.6522573232650757 auc:  0.643033453092257 acc:  0.6459276018099548 cost time:  29.9823796749115\n",
            "batch idx:  2 loss kt:  0.6604458093643188 auc:  0.5973967904766943 acc:  0.6392818625896086 cost time:  30.236547708511353\n",
            "batch idx:  3 loss kt:  0.6671322584152222 auc:  0.5587637327039121 acc:  0.6079353295388931 cost time:  24.509986639022827\n",
            "batch idx:  4 loss kt:  0.6797778010368347 auc:  0.4682032426810927 acc:  0.6049270533595841 cost time:  81.14202189445496\n",
            "batch idx:  5 loss kt:  0.6683561205863953 auc:  0.5909342954595123 acc:  0.6160027952480782 cost time:  30.59832215309143\n",
            "batch idx:  6 loss kt:  0.6594398021697998 auc:  0.6075486043944369 acc:  0.6492707243522678 cost time:  66.33343601226807\n",
            "batch idx:  7 loss kt:  0.6700161099433899 auc:  0.5589908251791698 acc:  0.6014710534640937 cost time:  43.540950536727905\n",
            "batch idx:  8 loss kt:  0.6586885452270508 auc:  0.5921085927310175 acc:  0.6337436022422618 cost time:  49.040371894836426\n",
            "batch idx:  9 loss kt:  0.6527613401412964 auc:  0.6203071120961675 acc:  0.6617245703326695 cost time:  40.95286321640015\n",
            "batch idx:  10 loss kt:  0.6566693782806396 auc:  0.615362912895635 acc:  0.640274414850686 cost time:  42.21208381652832\n",
            "batch idx:  11 loss kt:  0.6521545052528381 auc:  0.6203567156339992 acc:  0.663270617981706 cost time:  57.88074254989624\n",
            "batch idx:  12 loss kt:  0.6468366980552673 auc:  0.6401145475771955 acc:  0.6828552803129074 cost time:  40.065539836883545\n",
            "batch idx:  13 loss kt:  0.6413519382476807 auc:  0.6353961557119341 acc:  0.6769474918926378 cost time:  39.32856893539429\n",
            "batch idx:  14 loss kt:  0.6644168496131897 auc:  0.5691146316312796 acc:  0.6286727847613172 cost time:  37.06878852844238\n",
            "batch idx:  15 loss kt:  0.656573474407196 auc:  0.5761187840216413 acc:  0.6408116948134304 cost time:  41.29404878616333\n",
            "batch idx:  16 loss kt:  0.650217592716217 auc:  0.6038547901447142 acc:  0.6568736504612969 cost time:  35.96307301521301\n",
            "batch idx:  17 loss kt:  0.6499493718147278 auc:  0.5870626015000807 acc:  0.6557178536290017 cost time:  36.929003953933716\n",
            "batch idx:  18 loss kt:  0.6568104028701782 auc:  0.6175336792895382 acc:  0.6559261658031088 cost time:  39.632314920425415\n",
            "Epoch: 0003 loss_train: 0.6581056902 auc_train: 0.5955488344 acc_train: 0.6419213299 loss_val: 0.6836992843 auc_val: 0.5034619700 acc_val: 0.5701008695 time: 852.9764s\n",
            "batch idx:  0 loss kt:  0.650853157043457 auc:  0.6178755020120512 acc:  0.6483668573537553 cost time:  16.292312145233154\n",
            "batch idx:  1 loss kt:  0.6375693082809448 auc:  0.6585587557603687 acc:  0.6829591249280369 cost time:  27.496129035949707\n",
            "batch idx:  2 loss kt:  0.6443411707878113 auc:  0.6280894387859193 acc:  0.6728030980041704 cost time:  26.082128524780273\n",
            "batch idx:  3 loss kt:  0.6546069979667664 auc:  0.5838339766260944 acc:  0.6579374746244417 cost time:  25.513939142227173\n",
            "batch idx:  4 loss kt:  0.6501377820968628 auc:  0.6080467672837312 acc:  0.6591418956814358 cost time:  26.490473747253418\n",
            "batch idx:  5 loss kt:  0.6484563946723938 auc:  0.6320829308073435 acc:  0.6658777969018933 cost time:  27.7968533039093\n",
            "batch idx:  6 loss kt:  0.6366556882858276 auc:  0.6533437774544951 acc:  0.6735894773277951 cost time:  34.830650329589844\n",
            "batch idx:  7 loss kt:  0.6351126432418823 auc:  0.6810151256370774 acc:  0.6825616018642385 cost time:  62.04387712478638\n",
            "batch idx:  8 loss kt:  0.6582649946212769 auc:  0.56655812015853 acc:  0.6289426701051378 cost time:  30.941144704818726\n",
            "batch idx:  9 loss kt:  0.665891706943512 auc:  0.5542230501891583 acc:  0.6233828081593777 cost time:  36.29789757728577\n",
            "batch idx:  10 loss kt:  0.6586797833442688 auc:  0.5355423330474991 acc:  0.6402586903799515 cost time:  39.82613968849182\n",
            "batch idx:  11 loss kt:  0.6394733786582947 auc:  0.610270549497443 acc:  0.684346701164295 cost time:  33.409789085388184\n",
            "batch idx:  12 loss kt:  0.6562625765800476 auc:  0.584258840217752 acc:  0.6361477572559366 cost time:  53.52588629722595\n",
            "batch idx:  13 loss kt:  0.6627237796783447 auc:  0.5532294343357178 acc:  0.6347291034041873 cost time:  30.21967601776123\n",
            "batch idx:  14 loss kt:  0.6480560302734375 auc:  0.554959968453471 acc:  0.6902565454225971 cost time:  82.98216009140015\n",
            "batch idx:  15 loss kt:  0.6542284488677979 auc:  0.5998542205318829 acc:  0.6481283422459893 cost time:  39.61267900466919\n",
            "batch idx:  16 loss kt:  0.6313003897666931 auc:  0.6507201651674986 acc:  0.7034132544835122 cost time:  48.112765073776245\n",
            "batch idx:  17 loss kt:  0.6388562321662903 auc:  0.6203812284407655 acc:  0.6994941609941923 cost time:  44.77021098136902\n",
            "batch idx:  18 loss kt:  0.6418654918670654 auc:  0.5902944665888352 acc:  0.6857793417511903 cost time:  39.726186990737915\n",
            "Epoch: 0004 loss_train: 0.6480703134 auc_train: 0.6043757185 acc_train: 0.6641114054 loss_val: 0.6778801084 auc_val: 0.5426365023 acc_val: 0.5720936923 time: 790.0448s\n",
            "batch idx:  0 loss kt:  0.6311686635017395 auc:  0.568202838248766 acc:  0.7328022062203157 cost time:  75.56643223762512\n",
            "batch idx:  1 loss kt:  0.6416616439819336 auc:  0.6272242804830231 acc:  0.6846263514316264 cost time:  55.90890955924988\n",
            "batch idx:  2 loss kt:  0.6481495499610901 auc:  0.5831824843451614 acc:  0.6627860617175664 cost time:  56.93838548660278\n",
            "batch idx:  3 loss kt:  0.6322939395904541 auc:  0.6423526996094755 acc:  0.6855656350053362 cost time:  55.06828594207764\n",
            "batch idx:  4 loss kt:  0.6481601595878601 auc:  0.5965310166686252 acc:  0.6599527032536899 cost time:  62.4418420791626\n",
            "batch idx:  5 loss kt:  0.6454266309738159 auc:  0.5896398403116552 acc:  0.6555479918311776 cost time:  45.91629099845886\n",
            "batch idx:  6 loss kt:  0.6519218683242798 auc:  0.5821138827342207 acc:  0.6346049678867136 cost time:  45.9022433757782\n",
            "batch idx:  7 loss kt:  0.6372673511505127 auc:  0.6161668206372029 acc:  0.6841792375715241 cost time:  48.701602935791016\n",
            "batch idx:  8 loss kt:  0.63686603307724 auc:  0.6229113998055428 acc:  0.6861542313470206 cost time:  45.05261039733887\n"
          ]
        }
      ],
      "source": [
        "#!python3 train.py --data-file=skill_builder_data.csv --model=GKT --graph-type=Dense"
      ]
    },
    {
      "cell_type": "code",
      "execution_count": null,
      "metadata": {},
      "outputs": [],
      "source": [
        "!python3 train.py --data-file=skill_builder_data.csv --model=DKT"
      ]
    }
  ],
  "metadata": {
    "accelerator": "TPU",
    "colab": {
      "gpuType": "V28",
      "include_colab_link": true,
      "provenance": []
    },
    "kernelspec": {
      "display_name": "Python 3",
      "name": "python3"
    },
    "language_info": {
      "name": "python",
      "version": "3.8.10"
    }
  },
  "nbformat": 4,
  "nbformat_minor": 0
}
